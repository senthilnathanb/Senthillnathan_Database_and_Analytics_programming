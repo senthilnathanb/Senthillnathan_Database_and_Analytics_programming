{
 "cells": [
  {
   "cell_type": "code",
   "execution_count": null,
   "id": "8b0794a4",
   "metadata": {},
   "outputs": [],
   "source": [
    "from sodapy import Socrata\n",
    "from pymongo import MongoClient\n",
    "import pymongo\n",
    "import pandas as pd\n",
    "\n",
    "\n",
    "\n",
    "from sqlalchemy import create_engine\n",
    "import numpy as np\n",
    "import json\n",
    "\n",
    "\n",
    "\n",
    "#PostgreSql related operations such as reading and writing\n",
    "import psycopg2\n",
    "import sqlalchemy\n",
    "\n",
    "#Visulalization\n",
    "import pandas.io.sql as sqlio\n",
    "import psycopg2\n",
    "from pandas.io.json import json_normalize\n",
    "import seaborn as sns\n",
    "import pandas as pd\n",
    "import matplotlib.pyplot as plt\n",
    "from matplotlib.patches import Arc, Rectangle, ConnectionPatch\n",
    "from matplotlib.offsetbox import  OffsetImage\n",
    "from functools import reduce as rd\n",
    "\n",
    "#Ignoring Warning\n",
    "import warnings\n",
    "warnings.filterwarnings('ignore')"
   ]
  },
  {
   "cell_type": "code",
   "execution_count": null,
   "id": "f56bfa21",
   "metadata": {},
   "outputs": [],
   "source": [
    "RestaurantInspection_df = data2_final"
   ]
  },
  {
   "cell_type": "code",
   "execution_count": null,
   "id": "7c9f9063",
   "metadata": {},
   "outputs": [],
   "source": [
    "RestaurantFeatures_df = data1_final"
   ]
  },
  {
   "cell_type": "code",
   "execution_count": null,
   "id": "72dafafa",
   "metadata": {},
   "outputs": [],
   "source": [
    "RestaurantLiquor_df = data3_final"
   ]
  },
  {
   "cell_type": "code",
   "execution_count": null,
   "id": "7b6f536b",
   "metadata": {},
   "outputs": [],
   "source": [
    "RestaurantInspection_df"
   ]
  },
  {
   "cell_type": "code",
   "execution_count": null,
   "id": "bacf78ac",
   "metadata": {},
   "outputs": [],
   "source": [
    "RestaurantFeatures_df"
   ]
  },
  {
   "cell_type": "code",
   "execution_count": null,
   "id": "ea907044",
   "metadata": {},
   "outputs": [],
   "source": [
    "RestaurantLiquor_df"
   ]
  },
  {
   "cell_type": "code",
   "execution_count": null,
   "id": "ec61b636",
   "metadata": {},
   "outputs": [],
   "source": [
    "import matplotlib.pyplot as plt\n",
    "import seaborn as sns\n",
    "from matplotlib.patches import Arc, Rectangle, ConnectionPatch\n",
    "from matplotlib.offsetbox import  OffsetImage\n",
    "\n",
    "import seaborn as sns\n",
    "\n",
    "sns.set(style=\"whitegrid\")\n",
    "plt.figure(figsize=(8,5))\n",
    "total = float(len(RestaurantInspection_df))\n",
    "ax = sns.countplot(x=\"inspection_grade\", data=RestaurantInspection_df,palette=\"colorblind\")\n",
    "plt.title('Inspection grade', fontsize=20)\n",
    "for p in ax.patches:\n",
    "    percentage = '{:.1f}%'.format(100 * p.get_height()/total)\n",
    "    x = p.get_x() + p.get_width()\n",
    "    y = p.get_height()\n",
    "    ax.annotate(percentage, (x, y),ha='center')\n",
    "plt.show()"
   ]
  },
  {
   "cell_type": "code",
   "execution_count": null,
   "id": "6382974e",
   "metadata": {},
   "outputs": [],
   "source": [
    "sns.set(style=\"whitegrid\")\n",
    "plt.figure(figsize=(8,5))\n",
    "total = float(len(RestaurantFeatures_df))\n",
    "ax = sns.countplot(x=\"qualify_alcohol\", data=RestaurantFeatures_df,palette=\"colorblind\")\n",
    "plt.title('Qualify Alcohol', fontsize=20)\n",
    "for p in ax.patches:\n",
    "    percentage = '{:.1f}%'.format(100 * p.get_height()/total)\n",
    "    x = p.get_x() + p.get_width()\n",
    "    y = p.get_height()\n",
    "    ax.annotate(percentage, (x, y),ha='center')\n",
    "plt.show()"
   ]
  },
  {
   "cell_type": "code",
   "execution_count": null,
   "id": "6c6d9b60",
   "metadata": {},
   "outputs": [],
   "source": [
    "sns.set(style=\"whitegrid\")\n",
    "plt.figure(figsize=(8,5))\n",
    "total = float(len(RestaurantFeatures_df))\n",
    "ax = sns.countplot(x=\"approved_for_sidewalk_seating\", data=RestaurantFeatures_df,palette=\"colorblind\")\n",
    "plt.title('approved_for_sidewalk_seating', fontsize=20)\n",
    "for p in ax.patches:\n",
    "    percentage = '{:.1f}%'.format(100 * p.get_height()/total)\n",
    "    x = p.get_x() + p.get_width()\n",
    "    y = p.get_height()\n",
    "    ax.annotate(percentage, (x, y),ha='center')\n",
    "plt.show()"
   ]
  },
  {
   "cell_type": "code",
   "execution_count": null,
   "id": "df1f1699",
   "metadata": {},
   "outputs": [],
   "source": [
    "sns.set(style=\"whitegrid\")\n",
    "plt.figure(figsize=(8,5))\n",
    "total = float(len(RestaurantFeatures_df))\n",
    "ax = sns.countplot(x=\"approved_for_roadway_seating\", data=RestaurantFeatures_df,palette=\"colorblind\")\n",
    "plt.title('approved_for_roadway_seating', fontsize=20)\n",
    "for p in ax.patches:\n",
    "    percentage = '{:.1f}%'.format(100 * p.get_height()/total)\n",
    "    x = p.get_x() + p.get_width()\n",
    "    y = p.get_height()\n",
    "    ax.annotate(percentage, (x, y),ha='center')\n",
    "plt.show()"
   ]
  },
  {
   "cell_type": "code",
   "execution_count": null,
   "id": "5ac78691",
   "metadata": {},
   "outputs": [],
   "source": [
    "merge1_df = pd.merge(RestaurantLiquor_df,RestaurantFeatures_df,on='restaurant_name',how='inner')\n",
    "merge1_df"
   ]
  },
  {
   "cell_type": "code",
   "execution_count": null,
   "id": "ef1453ef",
   "metadata": {},
   "outputs": [],
   "source": [
    "mergedup_df = merge1_df.drop_duplicates()\n",
    "mergedup_df"
   ]
  },
  {
   "cell_type": "code",
   "execution_count": null,
   "id": "833e8740",
   "metadata": {},
   "outputs": [],
   "source": [
    "boxplot_df = mergedup_df[[\"roadway_dimensions_area\"]]\n",
    "\n",
    "plt.figure(figsize=(15,10))\n",
    "sns.boxplot(data=boxplot_df);\n",
    "plt.show()"
   ]
  },
  {
   "cell_type": "code",
   "execution_count": null,
   "id": "afa243d5",
   "metadata": {},
   "outputs": [],
   "source": [
    "boxplot_df1 = mergedup_df[[\"sidewalk_dimensions_area\"]]\n",
    "plt.figure(figsize=(15,10))\n",
    "sns.boxplot(data=boxplot_df1);\n",
    "plt.show()"
   ]
  },
  {
   "cell_type": "code",
   "execution_count": null,
   "id": "94c0101d",
   "metadata": {},
   "outputs": [],
   "source": [
    "pie_df = mergedup_df['license_type_code'].value_counts()\n",
    "pie_df"
   ]
  },
  {
   "cell_type": "code",
   "execution_count": null,
   "id": "90c04377",
   "metadata": {},
   "outputs": [],
   "source": [
    "labels = ['OP', 'RW', 'TW',\n",
    "        'EB', 'MI', 'FD', 'CM', 'AX']\n",
    " \n",
    "data = [112, 36, 9, 2, 2, 1, 1, 1]\n",
    " \n",
    "# Creating plot\n",
    "fig = plt.figure(figsize =(10, 7))\n",
    "plt.pie(data, labels = labels)\n",
    "\n",
    " \n",
    "# show plot\n",
    "plt.show()"
   ]
  },
  {
   "cell_type": "code",
   "execution_count": null,
   "id": "5ceaa3fb",
   "metadata": {},
   "outputs": [],
   "source": [
    "import plotly.express as px\n",
    "import plotly.graph_objects as go\n",
    "\n",
    "county_df = mergedup_df['county_x'].value_counts()\n",
    "\n",
    "county_df"
   ]
  },
  {
   "cell_type": "code",
   "execution_count": null,
   "id": "402759d2",
   "metadata": {},
   "outputs": [],
   "source": [
    "ny1_df = mergedup_df[(mergedup_df['county_x'] == 'NEW YORK') & (mergedup_df['qualify_alcohol']==\"yes\")]\n",
    "nyyes = len(ny1_df)\n",
    "nyyes"
   ]
  },
  {
   "cell_type": "code",
   "execution_count": null,
   "id": "792a3427",
   "metadata": {},
   "outputs": [],
   "source": [
    "ny2_df = mergedup_df[(mergedup_df['county_x'] == 'NEW YORK') & (mergedup_df['qualify_alcohol']==\"no\")]\n",
    "nyno = len(ny2_df)\n",
    "nyyes"
   ]
  },
  {
   "cell_type": "code",
   "execution_count": null,
   "id": "e8182458",
   "metadata": {},
   "outputs": [],
   "source": [
    "q1_df = mergedup_df[(mergedup_df['county_x'] == 'QUEENS') & (mergedup_df['qualify_alcohol']==\"yes\")]\n",
    "qyes = len(q1_df)\n",
    "qyes"
   ]
  },
  {
   "cell_type": "code",
   "execution_count": null,
   "id": "922a8940",
   "metadata": {},
   "outputs": [],
   "source": [
    "q2_df = mergedup_df[(mergedup_df['county_x'] == 'QUEENS') & (mergedup_df['qualify_alcohol']==\"no\")]\n",
    "qno = len(q2_df)\n",
    "qyes"
   ]
  },
  {
   "cell_type": "code",
   "execution_count": null,
   "id": "299d1171",
   "metadata": {},
   "outputs": [],
   "source": [
    "k1_df = mergedup_df[(mergedup_df['county_x'] == 'KINGS') & (mergedup_df['qualify_alcohol']==\"yes\")]\n",
    "kyes = len(k1_df)\n",
    "kyes"
   ]
  },
  {
   "cell_type": "code",
   "execution_count": null,
   "id": "1e863b32",
   "metadata": {},
   "outputs": [],
   "source": [
    "k2_df = mergedup_df[(mergedup_df['county_x'] == 'KINGS') & (mergedup_df['qualify_alcohol']==\"no\")]\n",
    "kno = len(k2_df)\n",
    "kyes"
   ]
  },
  {
   "cell_type": "code",
   "execution_count": null,
   "id": "6ec65616",
   "metadata": {},
   "outputs": [],
   "source": [
    "b1_df = mergedup_df[(mergedup_df['county_x'] == 'BRONX') & (mergedup_df['qualify_alcohol']==\"yes\")]\n",
    "byes = len(b1_df)\n",
    "byes"
   ]
  },
  {
   "cell_type": "code",
   "execution_count": null,
   "id": "70da03ea",
   "metadata": {},
   "outputs": [],
   "source": [
    "b2_df = mergedup_df[(mergedup_df['county_x'] == 'BRONX') & (mergedup_df['qualify_alcohol']==\"no\")]\n",
    "bno = len(b2_df)\n",
    "byes"
   ]
  },
  {
   "cell_type": "code",
   "execution_count": null,
   "id": "54bd8815",
   "metadata": {},
   "outputs": [],
   "source": [
    "r1_df = mergedup_df[(mergedup_df['county_x'] == 'ROCKLAND') & (mergedup_df['qualify_alcohol']==\"yes\")]\n",
    "ryes = len(r1_df)\n",
    "ryes"
   ]
  },
  {
   "cell_type": "code",
   "execution_count": null,
   "id": "37a6cc2a",
   "metadata": {},
   "outputs": [],
   "source": [
    "r2_df = mergedup_df[(mergedup_df['county_x'] == 'ROCKLAND') & (mergedup_df['qualify_alcohol']==\"no\")]\n",
    "rno = len(r2_df)\n",
    "ryes"
   ]
  },
  {
   "cell_type": "code",
   "execution_count": null,
   "id": "12ee940d",
   "metadata": {},
   "outputs": [],
   "source": [
    "graph1_df = pd.DataFrame({\n",
    "  \"County\": [\"NEW YORK\", \"QUEENS\", \"KINGS\", \"BRONX\", \"ROCKLAND\"],\n",
    "  \"Numberofrestaurants\": [61,41,36,23,3],\n",
    "  \"Qualify_alcohol\":[51,35,30,19,3],\n",
    "\n",
    "})\n",
    "\n",
    "fig = px.bar(graph1_df, x=\"County\", y=\"Numberofrestaurants\",color = \"Qualify_alcohol\", barmode=\"group\")\n",
    "fig.show()"
   ]
  },
  {
   "cell_type": "code",
   "execution_count": null,
   "id": "9f3adc39",
   "metadata": {},
   "outputs": [],
   "source": [
    "county_df"
   ]
  },
  {
   "cell_type": "code",
   "execution_count": null,
   "id": "53976c32",
   "metadata": {},
   "outputs": [],
   "source": [
    "merge1_df = mergedup_df\n",
    "\n",
    "ny3_df = merge1_df[(merge1_df['county_x'] == 'NEW YORK') & (merge1_df['approved_for_sidewalk_seating']==\"yes\")]\n",
    "ny1yes = len(ny3_df)\n",
    "ny1yes"
   ]
  },
  {
   "cell_type": "code",
   "execution_count": null,
   "id": "ec6545fa",
   "metadata": {},
   "outputs": [],
   "source": [
    "q3_df = merge1_df[(merge1_df['county_x'] == 'QUEENS') & (merge1_df['approved_for_sidewalk_seating']==\"yes\")]\n",
    "q1yes = len(q3_df)\n",
    "q1yes"
   ]
  },
  {
   "cell_type": "code",
   "execution_count": null,
   "id": "29be6120",
   "metadata": {},
   "outputs": [],
   "source": [
    "k3_df = merge1_df[(merge1_df['county_x'] == 'KINGS') & (merge1_df['approved_for_sidewalk_seating']==\"yes\")]\n",
    "k1yes = len(k3_df)\n",
    "k1yes"
   ]
  },
  {
   "cell_type": "code",
   "execution_count": null,
   "id": "4e596216",
   "metadata": {},
   "outputs": [],
   "source": [
    "b3_df = merge1_df[(merge1_df['county_x'] == 'BRONX') & (merge1_df['approved_for_sidewalk_seating']==\"yes\")]\n",
    "b1yes = len(b3_df)\n",
    "b1yes"
   ]
  },
  {
   "cell_type": "code",
   "execution_count": null,
   "id": "91675c2f",
   "metadata": {},
   "outputs": [],
   "source": [
    "r3_df = merge1_df[(merge1_df['county_x'] == 'ROCKLAND') & (merge1_df['approved_for_sidewalk_seating']==\"yes\")]\n",
    "r1yes = len(r3_df)\n",
    "r1yes"
   ]
  },
  {
   "cell_type": "code",
   "execution_count": null,
   "id": "37d752cb",
   "metadata": {},
   "outputs": [],
   "source": [
    "graph2_df = pd.DataFrame({\n",
    "  \"County\": [\"NEW YORK\", \"QUEENS\", \"KINGS\", \"BRONX\", \"ROCKLAND\"],\n",
    "  \"Numberofrestaurants\": [61,41,36,23,3],\n",
    "  \"Approvedforsidewalkseating\":[57, 40, 31, 21,0],\n",
    "\n",
    "})\n",
    "\n",
    "fig = px.bar(graph2_df, x=\"County\", y=\"Numberofrestaurants\",color = \"Approvedforsidewalkseating\", barmode=\"group\")\n",
    "fig.show()"
   ]
  },
  {
   "cell_type": "code",
   "execution_count": null,
   "id": "0348f677",
   "metadata": {},
   "outputs": [],
   "source": [
    "ny4_df = merge1_df[(merge1_df['county_x'] == 'NEW YORK') & (merge1_df['approved_for_roadway_seating']==\"yes\")]\n",
    "ny2yes = len(ny4_df)\n",
    "ny2yes"
   ]
  },
  {
   "cell_type": "code",
   "execution_count": null,
   "id": "abd6e601",
   "metadata": {},
   "outputs": [],
   "source": [
    "q4_df = merge1_df[(merge1_df['county_x'] == 'QUEENS') & (merge1_df['approved_for_roadway_seating']==\"yes\")]\n",
    "q2yes = len(q4_df)\n",
    "q2yes"
   ]
  },
  {
   "cell_type": "code",
   "execution_count": null,
   "id": "0f5a7cd0",
   "metadata": {},
   "outputs": [],
   "source": [
    "k4_df = merge1_df[(merge1_df['county_x'] == 'KINGS') & (merge1_df['approved_for_roadway_seating']==\"yes\")]\n",
    "k2yes = len(k4_df)\n",
    "k2yes"
   ]
  },
  {
   "cell_type": "code",
   "execution_count": null,
   "id": "fe23e5c3",
   "metadata": {},
   "outputs": [],
   "source": [
    "b4_df = merge1_df[(merge1_df['county_x'] == 'BRONX') & (merge1_df['approved_for_roadway_seating']==\"yes\")]\n",
    "b2yes = len(b4_df)\n",
    "b2yes"
   ]
  },
  {
   "cell_type": "code",
   "execution_count": null,
   "id": "23baefdf",
   "metadata": {},
   "outputs": [],
   "source": [
    "r4_df = merge1_df[(merge1_df['county_x'] == 'ROCKLAND') & (merge1_df['approved_for_roadway_seating']==\"yes\")]\n",
    "r2yes = len(r4_df)\n",
    "r2yes"
   ]
  },
  {
   "cell_type": "code",
   "execution_count": null,
   "id": "942d112a",
   "metadata": {},
   "outputs": [],
   "source": [
    "graph3_df = pd.DataFrame({\n",
    "  \"County\": [\"NEW YORK\", \"QUEENS\", \"KINGS\", \"BRONX\", \"ROCKLAND\"],\n",
    "  \"Numberofrestaurants\": [61,41,36,23,3],\n",
    "  \"Approvedforroadwayseating\":[49,28,30,15,3],\n",
    "\n",
    "})\n",
    "fig = px.bar(graph3_df, x=\"County\", y=\"Numberofrestaurants\",color = \"Approvedforroadwayseating\", barmode=\"group\")\n",
    "fig.show()"
   ]
  },
  {
   "cell_type": "code",
   "execution_count": null,
   "id": "951594c7",
   "metadata": {},
   "outputs": [],
   "source": [
    "import matplotlib.pyplot as plt\n",
    "import matplotlib as mpl\n",
    "import numpy as np\n",
    "from pandas import DataFrame\n",
    "\n",
    "x = [\"New York\", \"QUEENS\", \"KINGS\", \"BRONX\", \"ROCKLAND\"]\n",
    "xi = list(range(len(x)))\n",
    "noofrest = [61,41,36,23,3] \n",
    "liquorlicensed = [51,35,30,19,3]\n",
    "appforroad = [57, 40, 31, 21,0]\n",
    "appforside = [49,28,30,15,3]\n",
    "\n",
    "graph3 = DataFrame({'Number_of_Restaurants': noofrest,'Has_Liquor_License':liquorlicensed,  'Approved_for_roadway_seating': appforroad, 'Approved_for_sidewalk_seating': appforside})\n",
    "\n",
    "graph3.plot()\n",
    "plt.legend(loc='lower left')\n",
    "plt.xlabel(\"County\")\n",
    "plt.ylabel(\"Number_Of_Restaurants\")\n",
    "plt.xticks(xi,x)\n",
    "plt.show()"
   ]
  },
  {
   "cell_type": "code",
   "execution_count": null,
   "id": "ea20e75d",
   "metadata": {},
   "outputs": [],
   "source": [
    "# import plotly.express as px\n",
    "\n",
    "# map_df = pd.DataFrame({\n",
    "#   \"County\": [\"NEW YORK\", \"QUEENS\", \"KINGS\", \"BRONX\", \"ROCKLAND\"],\n",
    "#   \"FIPS #\":[\"36061\",\"36081\",\"36047\",\"36005\",\"36087\"],\n",
    "#   \"Numberofrestaurants\": [61,41,36,23,3],\n",
    "\n",
    "# })\n",
    "\n",
    "\n",
    "\n",
    "# fig = px.choropleth(map_df, locations='FIPS #',\n",
    "#                            hover_name = \"County\",\n",
    "#                            scope = \"usa\",\n",
    "#                            title = \"Numberofrestaurants\",color=\"Numberofrestaurants\"\n",
    "#                           )\n",
    "# fig.show()"
   ]
  },
  {
   "cell_type": "code",
   "execution_count": null,
   "id": "4188956f",
   "metadata": {},
   "outputs": [],
   "source": [
    "merge1_df\n",
    "merge1_df.head()"
   ]
  },
  {
   "cell_type": "code",
   "execution_count": null,
   "id": "834ea3b2",
   "metadata": {},
   "outputs": [],
   "source": [
    "import seaborn as sns\n",
    "import matplotlib.pyplot as plt\n",
    "import pandas as pd\n",
    " \n",
    " \n",
    "# reading the database\n",
    "data = merge1_df\n",
    " \n",
    "sns.barplot(x='roadway_dimensions_area',y='qualify_alcohol', data=data,\n",
    "            hue='county_x')\n",
    " \n",
    "plt.show()"
   ]
  },
  {
   "cell_type": "code",
   "execution_count": null,
   "id": "3ae8a7f7",
   "metadata": {},
   "outputs": [],
   "source": [
    "import seaborn as sns\n",
    "import matplotlib.pyplot as plt\n",
    "import pandas as pd\n",
    " \n",
    " \n",
    "# reading the database\n",
    "data = merge1_df\n",
    " \n",
    "sns.barplot(x='sidewalk_dimensions_area',y='qualify_alcohol', data=data,\n",
    "            hue='county_x')\n",
    " \n",
    "plt.show()"
   ]
  },
  {
   "cell_type": "code",
   "execution_count": null,
   "id": "55f0ba94",
   "metadata": {},
   "outputs": [],
   "source": [
    "merge1_df\n",
    "\n",
    "import pandas as pd\n",
    "map9_df = merge1_df[[\"county_x\", \"premise_state\",\"latitude_y\",\"longitude_y\",\"seating_interest_sidewalk\",\"approved_for_sidewalk_seating\",\"approved_for_roadway_seating\",\"qualify_alcohol\"]]\n",
    "map9_df"
   ]
  },
  {
   "cell_type": "code",
   "execution_count": null,
   "id": "66206e77",
   "metadata": {},
   "outputs": [],
   "source": [
    "import plotly.express as px\n",
    "\n",
    "fig = px.scatter_mapbox(map9_df, lat=\"latitude_y\", lon=\"longitude_y\", hover_name=\"county_x\", hover_data=[\"premise_state\",\"seating_interest_sidewalk\",\"approved_for_sidewalk_seating\",\"approved_for_roadway_seating\",\"qualify_alcohol\"],\n",
    "                        color_discrete_sequence=[\"fuchsia\"], zoom=3, height=300)\n",
    "fig.update_layout(\n",
    "    mapbox_style=\"white-bg\",\n",
    "    mapbox_layers=[\n",
    "        {\n",
    "            \"below\": 'traces',\n",
    "            \"sourcetype\": \"raster\",\n",
    "            \"sourceattribution\": \"United States Geological Survey\",\n",
    "            \"source\": [\n",
    "                \"https://basemap.nationalmap.gov/arcgis/rest/services/USGSImageryOnly/MapServer/tile/{z}/{y}/{x}\"\n",
    "            ]\n",
    "        },\n",
    "        {\n",
    "            \"sourcetype\": \"raster\",\n",
    "            \"sourceattribution\": \"Government of Canada\",\n",
    "            \"source\": [\"https://geo.weather.gc.ca/geomet/?\"\n",
    "                       \"SERVICE=WMS&VERSION=1.3.0&REQUEST=GetMap&BBOX={bbox-epsg-3857}&CRS=EPSG:3857\"\n",
    "                       \"&WIDTH=1000&HEIGHT=1000&LAYERS=RADAR_1KM_RDBR&TILED=true&FORMAT=image/png\"],\n",
    "        }\n",
    "      ])\n",
    "fig.update_layout(margin={\"r\":0,\"t\":0,\"l\":0,\"b\":0})\n",
    "fig.show()"
   ]
  },
  {
   "cell_type": "code",
   "execution_count": null,
   "id": "380b5c3c",
   "metadata": {},
   "outputs": [],
   "source": []
  },
  {
   "cell_type": "code",
   "execution_count": null,
   "id": "c01a5f5d",
   "metadata": {},
   "outputs": [],
   "source": []
  },
  {
   "cell_type": "code",
   "execution_count": null,
   "id": "1a5fbc47",
   "metadata": {},
   "outputs": [],
   "source": []
  },
  {
   "cell_type": "code",
   "execution_count": null,
   "id": "c8a095e0",
   "metadata": {},
   "outputs": [],
   "source": []
  },
  {
   "cell_type": "code",
   "execution_count": null,
   "id": "e21a656c",
   "metadata": {},
   "outputs": [],
   "source": []
  },
  {
   "cell_type": "code",
   "execution_count": null,
   "id": "c307cb7f",
   "metadata": {},
   "outputs": [],
   "source": []
  },
  {
   "cell_type": "code",
   "execution_count": null,
   "id": "13ff3f69",
   "metadata": {},
   "outputs": [],
   "source": []
  },
  {
   "cell_type": "code",
   "execution_count": null,
   "id": "73d6bcbb",
   "metadata": {},
   "outputs": [],
   "source": []
  },
  {
   "cell_type": "code",
   "execution_count": null,
   "id": "833ea6b3",
   "metadata": {},
   "outputs": [],
   "source": []
  },
  {
   "cell_type": "code",
   "execution_count": null,
   "id": "7b898390",
   "metadata": {},
   "outputs": [],
   "source": []
  },
  {
   "cell_type": "code",
   "execution_count": null,
   "id": "093e1205",
   "metadata": {},
   "outputs": [],
   "source": []
  }
 ],
 "metadata": {
  "kernelspec": {
   "display_name": "Python 3 (ipykernel)",
   "language": "python",
   "name": "python3"
  },
  "language_info": {
   "codemirror_mode": {
    "name": "ipython",
    "version": 3
   },
   "file_extension": ".py",
   "mimetype": "text/x-python",
   "name": "python",
   "nbconvert_exporter": "python",
   "pygments_lexer": "ipython3",
   "version": "3.9.12"
  }
 },
 "nbformat": 4,
 "nbformat_minor": 5
}
