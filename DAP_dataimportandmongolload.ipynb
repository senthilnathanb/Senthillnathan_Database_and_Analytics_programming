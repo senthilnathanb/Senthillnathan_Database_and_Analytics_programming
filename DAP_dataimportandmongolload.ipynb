{
 "cells": [
  {
   "cell_type": "code",
   "execution_count": null,
   "id": "e05239ae",
   "metadata": {},
   "outputs": [],
   "source": [
    "from sodapy import Socrata\n",
    "from pymongo import MongoClient\n",
    "import pymongo\n",
    "import pandas as pd\n",
    "\n",
    "\n",
    "\n",
    "from sqlalchemy import create_engine\n",
    "import numpy as np\n",
    "import json\n",
    "\n",
    "\n",
    "\n",
    "#PostgreSql related operations such as reading and writing\n",
    "import psycopg2\n",
    "import sqlalchemy\n",
    "\n",
    "#Visulalization\n",
    "import pandas.io.sql as sqlio\n",
    "import psycopg2\n",
    "from pandas.io.json import json_normalize\n",
    "import seaborn as sns\n",
    "import pandas as pd\n",
    "import matplotlib.pyplot as plt\n",
    "from matplotlib.patches import Arc, Rectangle, ConnectionPatch\n",
    "from matplotlib.offsetbox import  OffsetImage\n",
    "from functools import reduce as rd\n",
    "\n",
    "#Ignoring Warning\n",
    "import warnings\n",
    "warnings.filterwarnings('ignore')"
   ]
  },
  {
   "cell_type": "code",
   "execution_count": null,
   "id": "d30ee424",
   "metadata": {},
   "outputs": [],
   "source": [
    "client = Socrata(\"data.cityofnewyork.us\", \"KUuJj6F5ImQd1i21MaU2qFC3E\")\n",
    "results = client.get(\"pitm-atqc\", limit=13040)\n",
    "results_df = pd.DataFrame.from_records(results)\n",
    "\n",
    "data = results_df\n",
    "\n",
    "# Connecting to MongoDB\n",
    "client = MongoClient('localhost', 27017)\n",
    "db = client['DAPDATABASES']\n",
    "collection = db['Restaurant_Features']\n",
    "data.reset_index(inplace=True)\n",
    "data_dict = data.to_dict(\"records\")\n",
    "\n",
    "# Inserting collection\n",
    "# if pymongo >= 3.0 use insert_one() for inserting one document\n",
    "collection.insert_many(data_dict)"
   ]
  },
  {
   "cell_type": "code",
   "execution_count": null,
   "id": "5c966d3d",
   "metadata": {},
   "outputs": [],
   "source": [
    "client = Socrata(\"data.ny.gov\",\"KUuJj6F5ImQd1i21MaU2qFC3E\")\n",
    "results = client.get(\"d6dy-3h7r\", limit=92805)\n",
    "results_df = pd.DataFrame.from_records(results)\n",
    "\n",
    "from pymongo import MongoClient\n",
    "import pymongo\n",
    "data = results_df\n",
    "\n",
    "client = MongoClient('localhost', 27017)\n",
    "db = client['DAPDATABASES']\n",
    "collection = db['Restaurant_Inspection']\n",
    "data.reset_index(inplace=True)\n",
    "data_dict = data.to_dict(\"records\")\n",
    "\n",
    "collection.insert_many(data_dict)"
   ]
  },
  {
   "cell_type": "code",
   "execution_count": null,
   "id": "7fffaf3f",
   "metadata": {},
   "outputs": [],
   "source": [
    "client = Socrata(\"data.ny.gov\",\"KUuJj6F5ImQd1i21MaU2qFC3E\")\n",
    "results = client.get(\"hrvs-fxs2\", limit=50111)\n",
    "results_df = pd.DataFrame.from_records(results)\n",
    "data =results_df\n",
    "\n",
    "client = MongoClient('localhost', 27017)\n",
    "db = client['DAPDATABASES']\n",
    "collection = db['Restaurant_Liquor']\n",
    "data.reset_index(inplace=True)\n",
    "data_dict = data.to_dict(\"records\")\n",
    "\n",
    "collection.insert_many(data_dict)"
   ]
  },
  {
   "cell_type": "code",
   "execution_count": null,
   "id": "c0fc6c25",
   "metadata": {},
   "outputs": [],
   "source": []
  }
 ],
 "metadata": {
  "kernelspec": {
   "display_name": "Python 3 (ipykernel)",
   "language": "python",
   "name": "python3"
  },
  "language_info": {
   "codemirror_mode": {
    "name": "ipython",
    "version": 3
   },
   "file_extension": ".py",
   "mimetype": "text/x-python",
   "name": "python",
   "nbconvert_exporter": "python",
   "pygments_lexer": "ipython3",
   "version": "3.9.12"
  }
 },
 "nbformat": 4,
 "nbformat_minor": 5
}
